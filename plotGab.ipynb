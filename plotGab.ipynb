{
 "cells": [
  {
   "cell_type": "code",
   "execution_count": null,
   "metadata": {},
   "outputs": [],
   "source": [
    "import pandas as pd\n",
    "import matplotlib.pyplot as plt\n",
    "import numpy as np\n",
    "import seaborn as sns"
   ]
  },
  {
   "cell_type": "code",
   "execution_count": null,
   "metadata": {},
   "outputs": [],
   "source": [
    "nomeArquivo = '2019-04-01__03-00-50.gab'\n",
    "dataAtual = nomeArquivo.split('__')[0]\n",
    "horaInicial = 13\n",
    "horaFinal = 23"
   ]
  },
  {
   "cell_type": "code",
   "execution_count": null,
   "metadata": {},
   "outputs": [],
   "source": [
    "#Carregar o arquivo .sav\n",
    "df = pd.read_csv (nomeArquivo, header=None, comment='\\t',\n",
    "                  delim_whitespace=True, low_memory=False,\n",
    "                  na_values=(-9999, -99999))"
   ]
  },
  {
   "cell_type": "code",
   "execution_count": null,
   "metadata": {},
   "outputs": [],
   "source": [
    "#Remover os NaN\n",
    "df = df.dropna(subset=[0])"
   ]
  },
  {
   "cell_type": "code",
   "execution_count": null,
   "metadata": {},
   "outputs": [],
   "source": [
    "##Converter a data de Unix Time para UTC -3\n",
    "df[24] = pd.to_datetime(df[24], unit='s', utc=True).dt.tz_convert('America/Santarem')"
   ]
  },
  {
   "cell_type": "code",
   "execution_count": null,
   "metadata": {},
   "outputs": [],
   "source": [
    "#Configurar o indice do dataframe com a data\n",
    "df.set_index(24, inplace=True)"
   ]
  },
  {
   "cell_type": "code",
   "execution_count": null,
   "metadata": {},
   "outputs": [],
   "source": [
    "#Separar o arquivo com a hora inicial e final definidas\n",
    "new_df = df.loc[dataAtual + ' ' + str(horaInicial) + ':00:00':dataAtual + ' ' + str(horaFinal) + ':59:59']"
   ]
  },
  {
   "cell_type": "code",
   "execution_count": null,
   "metadata": {},
   "outputs": [],
   "source": [
    "#Calcula os milivolts e o indice UV\n",
    "new_df['mV'] = new_df[23]/1.65\n",
    "new_df['uvIndex'] = (new_df['mV']/10).astype(int)"
   ]
  },
  {
   "cell_type": "code",
   "execution_count": null,
   "metadata": {},
   "outputs": [],
   "source": [
    "#Plotar o boxplot\n",
    "%matplotlib\n",
    "sns.boxplot(new_df.index.hour, new_df[23], palette=\"RdBu\").set( xlabel=' ', \n",
    "    ylabel=' ', title=' ')\n",
    "\n"
   ]
  },
  {
   "cell_type": "code",
   "execution_count": null,
   "metadata": {},
   "outputs": [],
   "source": [
    "#salvar o arquivo sem NaN's e sem Time Stamps\n",
    "df['hora'] = df.index.hour\n",
    "df.set_index('hora', inplace=True)\n",
    "df.to_csv(nomeArquivo.split('.')[0] + '.csv')"
   ]
  },
  {
   "cell_type": "code",
   "execution_count": null,
   "metadata": {},
   "outputs": [],
   "source": []
  },
  {
   "cell_type": "code",
   "execution_count": null,
   "metadata": {},
   "outputs": [],
   "source": []
  },
  {
   "cell_type": "code",
   "execution_count": null,
   "metadata": {},
   "outputs": [],
   "source": []
  },
  {
   "cell_type": "code",
   "execution_count": null,
   "metadata": {},
   "outputs": [],
   "source": [
    "#####DIAS####"
   ]
  },
  {
   "cell_type": "code",
   "execution_count": null,
   "metadata": {},
   "outputs": [],
   "source": [
    "df1 = pd.read_csv ('2019-04-01__03-00-50.gab', header=None, comment='\\t',\n",
    "                  delim_whitespace=True, low_memory=False,\n",
    "                  na_values=(-9999, -99999))"
   ]
  },
  {
   "cell_type": "code",
   "execution_count": null,
   "metadata": {},
   "outputs": [],
   "source": [
    "df2 = pd.read_csv ('2019-04-02__03-00-51.gab', header=None, comment='\\t',\n",
    "                  delim_whitespace=True, low_memory=False,\n",
    "                  na_values=(-9999, -99999))"
   ]
  },
  {
   "cell_type": "code",
   "execution_count": null,
   "metadata": {},
   "outputs": [],
   "source": [
    "#Remover os NaN\n",
    "df1 = df1.dropna(subset=[0])\n",
    "df2 = df2.dropna(subset=[0])"
   ]
  },
  {
   "cell_type": "code",
   "execution_count": null,
   "metadata": {},
   "outputs": [],
   "source": [
    "df1.head()"
   ]
  },
  {
   "cell_type": "code",
   "execution_count": null,
   "metadata": {},
   "outputs": [],
   "source": [
    "##Converter a data de Unix Time para UTC -3\n",
    "df1[24] = pd.to_datetime(df1[24], unit='s', utc=True).dt.tz_convert('America/Santarem')\n",
    "df2[24] = pd.to_datetime(df2[24], unit='s', utc=True).dt.tz_convert('America/Santarem')"
   ]
  },
  {
   "cell_type": "code",
   "execution_count": null,
   "metadata": {},
   "outputs": [],
   "source": [
    "#Configurar o indice do dataframe com a data\n",
    "df1.set_index(24, inplace=True)\n",
    "df2.set_index(24, inplace=True)"
   ]
  },
  {
   "cell_type": "code",
   "execution_count": null,
   "metadata": {},
   "outputs": [],
   "source": [
    "df_total = pd.concat([df1,df2], axis=0)"
   ]
  },
  {
   "cell_type": "code",
   "execution_count": null,
   "metadata": {},
   "outputs": [],
   "source": [
    "df_total"
   ]
  },
  {
   "cell_type": "code",
   "execution_count": null,
   "metadata": {},
   "outputs": [],
   "source": [
    "#Separar o arquivo com a hora inicial e final definidas\n",
    "new_df = df.loc[dataAtual + ' ' + str(horaInicial) + ':00:00':dataAtual + ' ' + str(horaFinal) + ':59:59']"
   ]
  },
  {
   "cell_type": "code",
   "execution_count": null,
   "metadata": {},
   "outputs": [],
   "source": [
    "%matplotlib\n",
    "sns.boxplot(df_total.index.day, df_total[23], palette=\"RdBu\") "
   ]
  }
 ],
 "metadata": {
  "kernelspec": {
   "display_name": "Python 3",
   "language": "python",
   "name": "python3"
  },
  "language_info": {
   "codemirror_mode": {
    "name": "ipython",
    "version": 3
   },
   "file_extension": ".py",
   "mimetype": "text/x-python",
   "name": "python",
   "nbconvert_exporter": "python",
   "pygments_lexer": "ipython3",
   "version": "3.7.1"
  }
 },
 "nbformat": 4,
 "nbformat_minor": 2
}
